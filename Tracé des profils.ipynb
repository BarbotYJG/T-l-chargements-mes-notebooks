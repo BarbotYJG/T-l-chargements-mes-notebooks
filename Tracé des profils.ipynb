{
 "cells": [
  {
   "cell_type": "code",
   "execution_count": 1,
   "metadata": {},
   "outputs": [
    {
     "name": "stderr",
     "output_type": "stream",
     "text": [
      "/home/barboty/anaconda2/lib/python2.7/site-packages/cmocean/tools.py:76: MatplotlibDeprecationWarning: The is_string_like function was deprecated in version 2.1.\n",
      "  if not mpl.cbook.is_string_like(rgbin[0]):\n"
     ]
    }
   ],
   "source": [
    "\n",
    "import sys\n",
    "### general purpose\n",
    "import os\n",
    "import numpy as np\n",
    "import xarray as xr\n",
    "import pandas as pd\n",
    "### palette\n",
    "import matplotlib.cm as mplcm\n",
    "import matplotlib.ticker as mticker\n",
    "#import matplotlib.cm as cm\n",
    "#div_cmap = mplcm.seismic\n",
    "import cmocean\n",
    "from cmocean import cm\n",
    "import matplotlib.pyplot as plt\n",
    "import cartopy.crs as ccrs\n",
    "import scipy.io as sio\n",
    "from pylab import *\n",
    "from netCDF4 import Dataset\n",
    "\n",
    "\n",
    "sys.path.insert(0,'/home/barboty/Téléchargements/mes notebooks')\n",
    "\n",
    "import Fonctions_detection as fd\n",
    "\n",
    "%matplotlib inline\n"
   ]
  },
  {
   "cell_type": "code",
   "execution_count": 74,
   "metadata": {},
   "outputs": [],
   "source": [
    "Position = fd.Tracking('12',50, '/mnt/barboty/equipes/meom/MODEL_SET/NATL60/NATL60LAB-MJM155-S/1d/2007/NATL60LAB-MJM155_y2007m', [300, 440, 315, 390])"
   ]
  },
  {
   "cell_type": "code",
   "execution_count": 4,
   "metadata": {},
   "outputs": [],
   "source": [
    "#choix du fichier à analyser\n",
    "\n",
    "def choix_fichier(path, jour, mois, PosCentre, donnee):\n",
    "    x_centre = PosCentre[jour-1][0]\n",
    "    y_centre = PosCentre[jour-1][1]\n",
    "    \n",
    "    j = str(jour)\n",
    "    m = str(mois)\n",
    "    \n",
    "    if donnee == 'U':\n",
    "        file = path+m+'d'+j+'.1d_gridU.nc' \n",
    "    elif donnee == 'V':\n",
    "        file = path+m+'d'+j+'.1d_gridV.nc'  #m12d30.1d_gridU.nc \n",
    "    elif donnee == T or donnee == S:\n",
    "        file = path+m+'d'+j+'.1d_gridT.nc'  #m12d30.1d_gridU.nc \n",
    "    elif donnee == D:    \n",
    "        file = 'rien'\n",
    "    return (file,x_centre,y_centre)"
   ]
  },
  {
   "cell_type": "code",
   "execution_count": 3,
   "metadata": {},
   "outputs": [
    {
     "ename": "NameError",
     "evalue": "name 'Position' is not defined",
     "output_type": "error",
     "traceback": [
      "\u001b[0;31m---------------------------------------------------------------------------\u001b[0m",
      "\u001b[0;31mNameError\u001b[0m                                 Traceback (most recent call last)",
      "\u001b[0;32m<ipython-input-3-815cc5b5205e>\u001b[0m in \u001b[0;36m<module>\u001b[0;34m()\u001b[0m\n\u001b[1;32m      1\u001b[0m \u001b[0;31m# Récupération des données utiles\u001b[0m\u001b[0;34m\u001b[0m\u001b[0;34m\u001b[0m\u001b[0m\n\u001b[0;32m----> 2\u001b[0;31m \u001b[0mInfo\u001b[0m \u001b[0;34m=\u001b[0m \u001b[0mchoix_fichier\u001b[0m\u001b[0;34m(\u001b[0m\u001b[0;34m'/mnt/barboty/equipes/meom/MODEL_SET/NATL60/NATL60LAB-MJM155-S/1d/2007/NATL60LAB-MJM155_y2007m'\u001b[0m\u001b[0;34m,\u001b[0m\u001b[0;36m30\u001b[0m\u001b[0;34m,\u001b[0m \u001b[0;36m12\u001b[0m \u001b[0;34m,\u001b[0m \u001b[0mPosition\u001b[0m\u001b[0;34m,\u001b[0m \u001b[0;34m'U'\u001b[0m\u001b[0;34m)\u001b[0m\u001b[0;34m\u001b[0m\u001b[0m\n\u001b[0m\u001b[1;32m      3\u001b[0m \u001b[0;34m\u001b[0m\u001b[0m\n\u001b[1;32m      4\u001b[0m \u001b[0;31m# Création de l'axe X\u001b[0m\u001b[0;34m\u001b[0m\u001b[0;34m\u001b[0m\u001b[0m\n\u001b[1;32m      5\u001b[0m \u001b[0;32mdef\u001b[0m \u001b[0mAbscisses\u001b[0m\u001b[0;34m(\u001b[0m\u001b[0mintervalle\u001b[0m\u001b[0;34m,\u001b[0m \u001b[0mdonnee\u001b[0m\u001b[0;34m)\u001b[0m\u001b[0;34m:\u001b[0m\u001b[0;34m\u001b[0m\u001b[0m\n",
      "\u001b[0;31mNameError\u001b[0m: name 'Position' is not defined"
     ]
    }
   ],
   "source": [
    "# Récupération des données utiles\n",
    "Info = choix_fichier('/mnt/barboty/equipes/meom/MODEL_SET/NATL60/NATL60LAB-MJM155-S/1d/2007/NATL60LAB-MJM155_y2007m',30, 12 , Position, 'U')\n",
    "\n",
    "# Création de l'axe X\n",
    "def Abscisses(intervalle, donnee):\n",
    "    x = [0]*((intervalle*2)+1)\n",
    "    x[intervalle] = donnee[1]\n",
    "    for i in range (intervalle):\n",
    "        x[intervalle-(i+1)] = donnee[1] - (i+1)\n",
    "        x[intervalle+(i+1)] = donnee[1] + (i+1)\n",
    "    return x\n",
    "\n",
    "# Création du tableau des données à afficher\n",
    "def TableauZ(type, file):\n",
    "    g = Dataset(file, \"r\", format=\"NETCDF4\")\n",
    "    if (type == 'U'):\n",
    "        zz=g.variables['vozocrtx'][0,:,Info[2],Info[1]-50:Info[1]+51]\n",
    "    elif (type == 'V'):\n",
    "        zz=g.variables['vomecrty'][0,:,Info[2],Info[1]-50:Info[1]+51]\n",
    "    elif (type == 'T'):\n",
    "        zz=g.variables['votemper'][0,:,Info[2],Info[1]-50:Info[1]+51]\n",
    "    elif (type == 'S'):\n",
    "        zz=g.variables['vosaline'][0,:,Info[2],Info[1]-50:Info[1]+51]\n",
    "    elif (type == 'D'):\n",
    "        zz = []\n",
    "    \n",
    "    return zz\n",
    "\n",
    "# Il faudrait créer le fichier des profondeurs avec le Dataset.\n"
   ]
  },
  {
   "cell_type": "code",
   "execution_count": 77,
   "metadata": {},
   "outputs": [],
   "source": [
    "# Liste des niveaux de profondeur - cellule/cellule\n",
    "Prof = '/mnt/barboty/equipes/meom/MODEL_SET/NATL60/NATL60LAB-I/NATL60LAB_v4.1_cdf_mesh_zgr.nc'\n",
    "\n",
    "f = Dataset(Prof, \"r\", format = \"NETCDF4\")\n",
    "q = [0]*300\n",
    "i=0\n",
    "\n",
    "for i in range(300):\n",
    "    \n",
    "    q[i] = f.variables['e3t'][0,i,150,150]\n",
    "    \n",
    "len(q)\n",
    "Q = np.array(q)"
   ]
  },
  {
   "cell_type": "code",
   "execution_count": 78,
   "metadata": {},
   "outputs": [],
   "source": [
    "# Création des niveaux de profondeur - Avec les niveaux cellule/cellule\n",
    "\n",
    "Depth = [0]*300\n",
    "i=0\n",
    "for i in range(300):\n",
    "    if (i == 0):\n",
    "        Depth[0] = Q[0]\n",
    "    else:\n",
    "        Depth[i] = Depth[i-1]+Q[i]\n",
    "\n",
    "\n",
    "\n"
   ]
  },
  {
   "cell_type": "code",
   "execution_count": 82,
   "metadata": {},
   "outputs": [
    {
     "ename": "AttributeError",
     "evalue": "'module' object has no attribute 'reverse'",
     "output_type": "error",
     "traceback": [
      "\u001b[0;31m---------------------------------------------------------------------------\u001b[0m",
      "\u001b[0;31mAttributeError\u001b[0m                            Traceback (most recent call last)",
      "\u001b[0;32m<ipython-input-82-beda61c1284f>\u001b[0m in \u001b[0;36m<module>\u001b[0;34m()\u001b[0m\n\u001b[1;32m      6\u001b[0m \u001b[0;34m\u001b[0m\u001b[0m\n\u001b[1;32m      7\u001b[0m \u001b[0mpcolor\u001b[0m\u001b[0;34m(\u001b[0m\u001b[0mX\u001b[0m\u001b[0;34m,\u001b[0m \u001b[0mDepth\u001b[0m\u001b[0;34m,\u001b[0m \u001b[0mzz\u001b[0m\u001b[0;34m,\u001b[0m\u001b[0mcmap\u001b[0m\u001b[0;34m=\u001b[0m\u001b[0;34m'seismic'\u001b[0m\u001b[0;34m,\u001b[0m\u001b[0mvmin\u001b[0m\u001b[0;34m=\u001b[0m\u001b[0;34m-\u001b[0m\u001b[0;36m0.125\u001b[0m\u001b[0;34m,\u001b[0m\u001b[0mvmax\u001b[0m\u001b[0;34m=\u001b[0m\u001b[0;36m0.125\u001b[0m\u001b[0;34m)\u001b[0m\u001b[0;34m\u001b[0m\u001b[0m\n\u001b[0;32m----> 8\u001b[0;31m \u001b[0mplt\u001b[0m\u001b[0;34m.\u001b[0m\u001b[0mreverse\u001b[0m\u001b[0;34m(\u001b[0m\u001b[0;34m)\u001b[0m\u001b[0;34m\u001b[0m\u001b[0m\n\u001b[0m\u001b[1;32m      9\u001b[0m \u001b[0mplt\u001b[0m\u001b[0;34m.\u001b[0m\u001b[0mcolorbar\u001b[0m\u001b[0;34m(\u001b[0m\u001b[0;34m)\u001b[0m\u001b[0;34m\u001b[0m\u001b[0m\n\u001b[1;32m     10\u001b[0m \u001b[0mshow\u001b[0m\u001b[0;34m(\u001b[0m\u001b[0;34m)\u001b[0m\u001b[0;34m\u001b[0m\u001b[0m\n",
      "\u001b[0;31mAttributeError\u001b[0m: 'module' object has no attribute 'reverse'"
     ]
    },
    {
     "data": {
      "image/png": "[encoded data removed]",
      "text/plain": [
       "<Figure size 432x288 with 1 Axes>"
      ]
     },
     "metadata": {},
     "output_type": "display_data"
    }
   ],
   "source": [
    "# Tracé du profil\n",
    "\n",
    "\n",
    "Z = TableauZ('U', Info[0])\n",
    "\n",
    "pcolor(X, Depth, zz,cmap='seismic',vmin=-0.125,vmax=0.125)\n",
    "\n",
    "plt.colorbar()\n",
    "show()\n"
   ]
  },
  {
   "cell_type": "code",
   "execution_count": null,
   "metadata": {},
   "outputs": [],
   "source": []
  },
  {
   "cell_type": "code",
   "execution_count": null,
   "metadata": {},
   "outputs": [],
   "source": []
  },
  {
   "cell_type": "code",
   "execution_count": null,
   "metadata": {},
   "outputs": [],
   "source": []
  },
  {
   "cell_type": "code",
   "execution_count": null,
   "metadata": {},
   "outputs": [],
   "source": []
  },
  {
   "cell_type": "code",
   "execution_count": null,
   "metadata": {},
   "outputs": [],
   "source": []
  }
 ],
 "metadata": {
  "kernelspec": {
   "display_name": "Python 2",
   "language": "python",
   "name": "python2"
  },
  "language_info": {
   "codemirror_mode": {
    "name": "ipython",
    "version": 2
   },
   "file_extension": ".py",
   "mimetype": "text/x-python",
   "name": "python",
   "nbconvert_exporter": "python",
   "pygments_lexer": "ipython2",
   "version": "2.7.15"
  }
 },
 "nbformat": 4,
 "nbformat_minor": 2
}
