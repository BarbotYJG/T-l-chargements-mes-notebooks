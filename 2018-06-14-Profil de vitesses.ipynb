{
 "cells": [
  {
   "cell_type": "code",
   "execution_count": 2,
   "metadata": {},
   "outputs": [],
   "source": [
    "# import modules\n",
    "from matplotlib import pyplot as plt\n",
    "import matplotlib.cm as cm\n",
    "import numpy.ma as ma\n",
    "import numpy as np\n",
    "%matplotlib inline"
   ]
  },
  {
   "cell_type": "code",
   "execution_count": 3,
   "metadata": {},
   "outputs": [],
   "source": [
    "# Import d'un fichier U\n",
    "\n",
    "path = '/mnt/barboty/equipes/meom/MODEL_SET/NATL60/NATL60LAB-MJM155-S/1d/2007/NATL60LAB-MJM155_y2007m12d30'\n",
    "Ufile = path + '.1d_gridU.nc'"
   ]
  },
  {
   "cell_type": "code",
   "execution_count": 103,
   "metadata": {},
   "outputs": [
    {
     "name": "stderr",
     "output_type": "stream",
     "text": [
      "/home/barboty/anaconda2/lib/python2.7/site-packages/ipykernel_launcher.py:16: UserWarning: Warning: converting a masked element to nan.\n",
      "  app.launch_new_instance()\n"
     ]
    }
   ],
   "source": [
    "# creation du tableau 1d\n",
    "\n",
    "from netCDF4 import Dataset\n",
    "g = Dataset(Ufile, \"r\", format=\"NETCDF4\")\n",
    "u = [0]*300\n",
    "i=0\n",
    "for i in range(300):\n",
    "    u[i] = g.variables['vozocrtx'][0,i,150,150]  # niveau de 0 à 299\n",
    "    \n",
    "    \n",
    "    \n",
    "len (u)\n",
    "# liste de scalaires\n",
    "# U est ok\n",
    "\n",
    "U = np.array(u)"
   ]
  },
  {
   "cell_type": "code",
   "execution_count": 107,
   "metadata": {},
   "outputs": [],
   "source": [
    "# Liste des niveaux de profondeur - centre/centre\n",
    "\n",
    "Prof = '/mnt/barboty/equipes/meom/MODEL_SET/NATL60/NATL60LAB-I/NATL60LAB_v4.1_cdf_mesh_zgr.nc'\n",
    "\n",
    "h = Dataset(Prof, \"r\", format = \"NETCDF4\")\n",
    "p = [0]*300\n",
    "i=0\n",
    "\n",
    "for i in range(300):\n",
    "    \n",
    "    p[i] = h.variables['e3w'][0,i,150,150]\n",
    "    \n",
    "len(p)\n",
    "P = np.array(p)"
   ]
  },
  {
   "cell_type": "code",
   "execution_count": 109,
   "metadata": {},
   "outputs": [],
   "source": [
    "# Liste des niveaux de profondeur - cellule/cellule\n",
    "\n",
    "Prof = '/mnt/barboty/equipes/meom/MODEL_SET/NATL60/NATL60LAB-I/NATL60LAB_v4.1_cdf_mesh_zgr.nc'\n",
    "\n",
    "f = Dataset(Prof, \"r\", format = \"NETCDF4\")\n",
    "q = [0]*300\n",
    "i=0\n",
    "\n",
    "for i in range(300):\n",
    "    \n",
    "    q[i] = f.variables['e3t'][0,i,150,150]\n",
    "    \n",
    "len(q)\n",
    "Q = np.array(q)"
   ]
  },
  {
   "cell_type": "code",
   "execution_count": 53,
   "metadata": {
    "scrolled": true
   },
   "outputs": [
    {
     "data": {
      "text/plain": [
       "300"
      ]
     },
     "execution_count": 53,
     "metadata": {},
     "output_type": "execute_result"
    }
   ],
   "source": [
    "# Création des niveaux de profondeur - Avec les niveaux cellule/cellule\n",
    "\n",
    "Depth = [0]*300\n",
    "i=0\n",
    "for i in range(300):\n",
    "    if (i == 0):\n",
    "        Depth[0] = Q[0]\n",
    "    else:\n",
    "        Depth[i] = Depth[i-1]+Q[i]\n",
    "\n",
    "len(Depth)\n"
   ]
  },
  {
   "cell_type": "code",
   "execution_count": 104,
   "metadata": {},
   "outputs": [],
   "source": [
    "DEPTH = np.array(Depth)\n",
    "\n"
   ]
  },
  {
   "cell_type": "code",
   "execution_count": 106,
   "metadata": {},
   "outputs": [
    {
     "data": {
      "text/plain": [
       "(3000, 0)"
      ]
     },
     "execution_count": 106,
     "metadata": {},
     "output_type": "execute_result"
    },
    {
     "data": {
      "image/png": "[encoded data removed]",
      "text/plain": [
       "<Figure size 360x720 with 1 Axes>"
      ]
     },
     "metadata": {},
     "output_type": "display_data"
    }
   ],
   "source": [
    "fig = plt.figure(figsize=(5, 10))  # (w,h)\n",
    "\n",
    "ax = plt.subplot(111)\n",
    "ax.plot(U,DEPTH)\n",
    "ax.set_ylim(3000, 0)"
   ]
  },
  {
   "cell_type": "code",
   "execution_count": null,
   "metadata": {},
   "outputs": [],
   "source": []
  },
  {
   "cell_type": "code",
   "execution_count": null,
   "metadata": {},
   "outputs": [],
   "source": []
  },
  {
   "cell_type": "code",
   "execution_count": null,
   "metadata": {},
   "outputs": [],
   "source": []
  },
  {
   "cell_type": "code",
   "execution_count": null,
   "metadata": {},
   "outputs": [],
   "source": []
  },
  {
   "cell_type": "code",
   "execution_count": null,
   "metadata": {},
   "outputs": [],
   "source": []
  },
  {
   "cell_type": "code",
   "execution_count": null,
   "metadata": {},
   "outputs": [],
   "source": []
  },
  {
   "cell_type": "code",
   "execution_count": null,
   "metadata": {},
   "outputs": [],
   "source": []
  },
  {
   "cell_type": "code",
   "execution_count": 60,
   "metadata": {},
   "outputs": [],
   "source": []
  },
  {
   "cell_type": "code",
   "execution_count": null,
   "metadata": {},
   "outputs": [],
   "source": []
  },
  {
   "cell_type": "code",
   "execution_count": null,
   "metadata": {},
   "outputs": [],
   "source": []
  },
  {
   "cell_type": "code",
   "execution_count": null,
   "metadata": {},
   "outputs": [],
   "source": []
  }
 ],
 "metadata": {
  "kernelspec": {
   "display_name": "Python 2",
   "language": "python",
   "name": "python2"
  },
  "language_info": {
   "codemirror_mode": {
    "name": "ipython",
    "version": 2
   },
   "file_extension": ".py",
   "mimetype": "text/x-python",
   "name": "python",
   "nbconvert_exporter": "python",
   "pygments_lexer": "ipython2",
   "version": "2.7.15"
  }
 },
 "nbformat": 4,
 "nbformat_minor": 2
}
